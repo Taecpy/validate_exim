{
 "cells": [
  {
   "cell_type": "code",
   "execution_count": null,
   "metadata": {},
   "outputs": [],
   "source": [
    "import pandas as pd\n",
    "import numpy as np\n",
    "import scipy as sp"
   ]
  },
  {
   "cell_type": "code",
   "execution_count": null,
   "metadata": {},
   "outputs": [],
   "source": [
    "def import_file(file_path: str, **kwargs) -> pd.DataFrame:\n",
    "    try:\n",
    "        file_extension = file_path.split(\".\")[-1].lower()\n",
    "\n",
    "        if file_extension == \"csv\":\n",
    "            df = pd.read_csv(file_path, **kwargs)\n",
    "        elif file_extension == \"xlsx\":\n",
    "            df = pd.read_excel(file_path, **kwargs)\n",
    "        elif file_extension == \"parquet\":\n",
    "            df = pd.read_parquet(file_path, **kwargs)\n",
    "        else:\n",
    "            raise ValueError(f\"Unsupported file extension: {file_extension}\")\n",
    "\n",
    "        return df\n",
    "\n",
    "    except FileNotFoundError:\n",
    "        print(f\"Error: The file {file_path} does not exist.\")\n",
    "        raise\n",
    "    except pd.errors.ParserError as e:\n",
    "        print(f\"Error: Parsing error for file {file_path} - {str(e)}\")\n",
    "        raise\n",
    "    except Exception as e:\n",
    "        print(f\"An unexpected error occured: {str(e)}\")\n",
    "        raise\n",
    "\n",
    "\n",
    "def define_expected_default_rate():\n",
    "    data = {\n",
    "        \"CompositeRate\": [\"A\", \"B1\", \"B2\", \"B3\", \"B4\", \"C1\", \"C2\", \"C3\"],\n",
    "        \"corporate\": [0.0001, 0.0025, 0.0025, 0.0075, 0.0125, 0.025, 0.075, 0.2],\n",
    "        \"sme\": [0.0001, 0.0075, 0.0075, 0.0125, 0.0175, 0.025, 0.075, 0.2],\n",
    "        \"rsme\": [0.0001, 0.0075, 0.0075, 0.0125, 0.025, 0.04, 0.075, 0.4],\n",
    "    }\n",
    "\n",
    "    expected_default_df = pd.DataFrame(data)\n",
    "\n",
    "    return expected_default_df\n",
    "\n",
    "\n",
    "def map_expected_default_rate(\n",
    "    df: pd.DataFrame, expected_default_rate_df: pd.DataFrame, portfolio: str\n",
    ") -> pd.DataFrame:\n",
    "    \n",
    "    port = portfolio.lower()\n",
    "    \n",
    "    df_1 = df.merge(\n",
    "        expected_default_rate_df[[\"CompositeRate\", f\"{port}\"]],\n",
    "        how=\"left\",\n",
    "        on=[\"CompositeRate\"],\n",
    "    ).rename(columns={f\"{port}\": \"ExpectedDR\"})\n",
    "\n",
    "    return df_1\n",
    "\n",
    "\n",
    "def hosmer_lemeshow_test(df: pd.DataFrame) -> pd.DataFrame:\n",
    "    df = df.sort_values('CompositeRate')\n",
    "\n",
    "    df[\"ExpectedEvent\"] = df[\"ExpectedDR\"] * (df[\"Good\"] + df[\"Bad\"])\n",
    "    hl_stat = np.sum(((df[\"Bad\"] - df[\"ExpectedEvent\"]) ** 2) / (df[\"ExpectedEvent\"] * (1 - df[\"ExpectedDR\"])))\n",
    "    dof = df.shape[0]\n",
    "    \n",
    "    p_value = 1 - sp.stats.chi2.cdf(hl_stat, dof)\n",
    "    \n",
    "    return hl_stat, p_value"
   ]
  },
  {
   "cell_type": "code",
   "execution_count": null,
   "metadata": {},
   "outputs": [],
   "source": [
    "corp_default_rate_df = import_file(\"../data/processed/03_rating_summary/corporate_rating_summary.parquet\")\n",
    "sme_default_rate_df = import_file(\"../data/processed/03_rating_summary/sme_rating_summary.parquet\")\n",
    "rsme_default_rate_df = import_file(\"../data/processed/03_rating_summary/rsme_rating_summary.parquet\")\n",
    "expected_default_rate_df = define_expected_default_rate()"
   ]
  },
  {
   "cell_type": "code",
   "execution_count": null,
   "metadata": {},
   "outputs": [],
   "source": [
    "base_corporate_df = map_expected_default_rate(corp_default_rate_df, expected_default_rate_df, \"corporate\")\n",
    "base_sme_df = map_expected_default_rate(sme_default_rate_df, expected_default_rate_df, \"sme\")\n",
    "base_rsme_df = map_expected_default_rate(rsme_default_rate_df, expected_default_rate_df, \"rsme\")"
   ]
  },
  {
   "cell_type": "code",
   "execution_count": null,
   "metadata": {},
   "outputs": [],
   "source": [
    "print(\"Corporate Portfolio: \" + str(hosmer_lemeshow_test(base_corporate_df)))\n",
    "print(\"SMEs Portfolio: \" + str(hosmer_lemeshow_test(base_sme_df)))\n",
    "print(\"RSME Portfolio: \" + str(hosmer_lemeshow_test(base_rsme_df)))"
   ]
  }
 ],
 "metadata": {
  "kernelspec": {
   "display_name": "Python 3 (ipykernel)",
   "language": "python",
   "name": "python3"
  },
  "language_info": {
   "codemirror_mode": {
    "name": "ipython",
    "version": 3
   },
   "file_extension": ".py",
   "mimetype": "text/x-python",
   "name": "python",
   "nbconvert_exporter": "python",
   "pygments_lexer": "ipython3",
   "version": "3.12.0"
  }
 },
 "nbformat": 4,
 "nbformat_minor": 4
}
