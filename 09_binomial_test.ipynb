{
 "cells": [
  {
   "cell_type": "code",
   "execution_count": null,
   "metadata": {},
   "outputs": [],
   "source": [
    "import pandas as pd\n",
    "import numpy as np\n",
    "import scipy as sp"
   ]
  },
  {
   "cell_type": "code",
   "execution_count": null,
   "metadata": {},
   "outputs": [],
   "source": [
    "def import_file(file_path: str, **kwargs) -> pd.DataFrame:\n",
    "    try:\n",
    "        file_extension = file_path.split(\".\")[-1].lower()\n",
    "\n",
    "        if file_extension == \"csv\":\n",
    "            df = pd.read_csv(file_path, **kwargs)\n",
    "        elif file_extension == \"xlsx\":\n",
    "            df = pd.read_excel(file_path, **kwargs)\n",
    "        elif file_extension == \"parquet\":\n",
    "            df = pd.read_parquet(file_path, **kwargs)\n",
    "        else:\n",
    "            raise ValueError(f\"Unsupported file extension: {file_extension}\")\n",
    "\n",
    "        return df\n",
    "\n",
    "    except FileNotFoundError:\n",
    "        print(f\"Error: The file {file_path} does not exist.\")\n",
    "        raise\n",
    "    except pd.errors.ParserError as e:\n",
    "        print(f\"Error: Parsing error for file {file_path} - {str(e)}\")\n",
    "        raise\n",
    "    except Exception as e:\n",
    "        print(f\"An unexpected error occured: {str(e)}\")\n",
    "        raise\n",
    "    \n",
    "def define_expected_default_rate():\n",
    "    data = {\n",
    "        \"CompositeRate\": [\"A\", \"B1\", \"B2\", \"B3\", \"B4\", \"C1\", \"C2\", \"C3\"],\n",
    "        \"corporate\": [0.0001, 0.0025, 0.0025, 0.0075, 0.0125, 0.025, 0.075, 0.2],\n",
    "        \"sme\": [0.0001, 0.0075, 0.0075, 0.0125, 0.0175, 0.025, 0.075, 0.2],\n",
    "        \"rsme\": [0.0001, 0.0075, 0.0075, 0.0125, 0.025, 0.04, 0.075, 0.4],\n",
    "    }\n",
    "\n",
    "    expected_default_df = pd.DataFrame(data)\n",
    "\n",
    "    return expected_default_df\n",
    "\n",
    "def map_expected_default_rate(\n",
    "    df: pd.DataFrame, expected_default_rate_df: pd.DataFrame, portfolio: str\n",
    ") -> pd.DataFrame:\n",
    "    \n",
    "    port = portfolio.lower()\n",
    "    \n",
    "    df_1 = df.merge(\n",
    "        expected_default_rate_df[[\"CompositeRate\", f\"{port}\"]],\n",
    "        how=\"left\",\n",
    "        on=[\"CompositeRate\"],\n",
    "    ).rename(columns={f\"{port}\": \"ExpectedDR\"})\n",
    "\n",
    "    return df_1\n",
    "\n",
    "def binomial_test(df: pd.DataFrame, alpha: float=0.05) -> pd.DataFrame:\n",
    "    df = df.sort_values(\"CompositeRate\")\n",
    "    \n",
    "    results = []\n",
    "    \n",
    "    for index, row in df.iterrows():\n",
    "        bin_name = row[\"CompositeRate\"]\n",
    "        good = row[\"Good\"]\n",
    "        bad = row[\"Bad\"]\n",
    "        total_count = good + bad\n",
    "        expected_rate = row[\"ExpectedDR\"]\n",
    "        actual_rate = row[\"BadRate\"]\n",
    "        \n",
    "        critical_value_lower = sp.stats.binom.ppf(alpha/2, total_count, expected_rate)\n",
    "        critical_value_upper = sp.stats.binom.ppf(1 - (alpha/2), total_count, expected_rate)\n",
    "        \n",
    "        results.append(\n",
    "            {\n",
    "                \"CompositeRate\": bin_name,\n",
    "                \"Good\": good,\n",
    "                \"Bad\": bad,\n",
    "                \"Expected Default Rate\": expected_rate,\n",
    "                \"Actual Default Rate\": actual_rate,\n",
    "                \"LowerBound\": critical_value_lower,\n",
    "                \"UpperBound\": critical_value_upper\n",
    "            }\n",
    "        )\n",
    "    \n",
    "    return pd.DataFrame(results)\n",
    "\n",
    "def label_test_results(df: pd.DataFrame) -> pd.DataFrame:\n",
    "    labels = []\n",
    "    \n",
    "    for index, row in df.iterrows():\n",
    "        lower_bound = row[\"LowerBound\"]\n",
    "        upper_bound = row[\"UpperBound\"]\n",
    "        actual_default = row[\"Bad\"]\n",
    "        \n",
    "        if lower_bound == 0 and upper_bound == 0:\n",
    "            labels.append(\"-\")\n",
    "        elif lower_bound == 0:\n",
    "            if actual_default >= upper_bound:\n",
    "                labels.append('Fail')\n",
    "            else:\n",
    "                labels.append('Pass')\n",
    "        else:\n",
    "            if actual_default <= lower_bound or actual_default >= upper_bound:\n",
    "                labels.append('Fail')\n",
    "            else:\n",
    "                labels.append('Pass')\n",
    "    \n",
    "    output = df.copy()\n",
    "    output[\"Test Result\"] = labels\n",
    "    \n",
    "    return output"
   ]
  },
  {
   "cell_type": "code",
   "execution_count": null,
   "metadata": {},
   "outputs": [],
   "source": [
    "corp_default_rate_df = import_file(\"../data/processed/03_rating_summary/corporate_rating_summary.parquet\")\n",
    "sme_default_rate_df = import_file(\"../data/processed/03_rating_summary/sme_rating_summary.parquet\")\n",
    "rsme_default_rate_df = import_file(\"../data/processed/03_rating_summary/rsme_rating_summary.parquet\")\n",
    "expected_default_rate_df = define_expected_default_rate()"
   ]
  },
  {
   "cell_type": "code",
   "execution_count": null,
   "metadata": {},
   "outputs": [],
   "source": [
    "base_corporate_df = map_expected_default_rate(corp_default_rate_df, expected_default_rate_df, \"corporate\")\n",
    "base_sme_df = map_expected_default_rate(sme_default_rate_df, expected_default_rate_df, \"sme\")\n",
    "base_rsme_df = map_expected_default_rate(rsme_default_rate_df, expected_default_rate_df, \"rsme\")"
   ]
  },
  {
   "cell_type": "code",
   "execution_count": null,
   "metadata": {},
   "outputs": [],
   "source": [
    "corp_result = label_test_results(binomial_test(base_corporate_df))"
   ]
  },
  {
   "cell_type": "code",
   "execution_count": null,
   "metadata": {},
   "outputs": [],
   "source": [
    "sme_result = label_test_results(binomial_test(base_sme_df))"
   ]
  },
  {
   "cell_type": "code",
   "execution_count": null,
   "metadata": {},
   "outputs": [],
   "source": [
    "rsme_result = label_test_results(binomial_test(base_rsme_df))"
   ]
  },
  {
   "cell_type": "code",
   "execution_count": null,
   "metadata": {},
   "outputs": [],
   "source": [
    "corp_result"
   ]
  },
  {
   "cell_type": "code",
   "execution_count": null,
   "metadata": {},
   "outputs": [],
   "source": [
    "sme_result"
   ]
  },
  {
   "cell_type": "code",
   "execution_count": null,
   "metadata": {},
   "outputs": [],
   "source": [
    "rsme_result"
   ]
  }
 ],
 "metadata": {
  "kernelspec": {
   "display_name": "Python 3 (ipykernel)",
   "language": "python",
   "name": "python3"
  },
  "language_info": {
   "codemirror_mode": {
    "name": "ipython",
    "version": 3
   },
   "file_extension": ".py",
   "mimetype": "text/x-python",
   "name": "python",
   "nbconvert_exporter": "python",
   "pygments_lexer": "ipython3",
   "version": "3.12.0"
  }
 },
 "nbformat": 4,
 "nbformat_minor": 4
}
