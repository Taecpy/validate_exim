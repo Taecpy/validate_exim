{
 "cells": [
  {
   "cell_type": "code",
   "execution_count": null,
   "metadata": {},
   "outputs": [],
   "source": [
    "import numpy as np\n",
    "import pandas as pd\n",
    "import scipy as sp\n",
    "from scipy.stats import norm"
   ]
  },
  {
   "cell_type": "code",
   "execution_count": null,
   "metadata": {},
   "outputs": [],
   "source": [
    "def import_file(file_path: str, **kwargs) -> pd.DataFrame:\n",
    "    try:\n",
    "        file_extension = file_path.split(\".\")[-1].lower()\n",
    "\n",
    "        if file_extension == \"csv\":\n",
    "            df = pd.read_csv(file_path, **kwargs)\n",
    "        elif file_extension == \"xlsx\":\n",
    "            df = pd.read_excel(file_path, **kwargs)\n",
    "        elif file_extension == \"parquet\":\n",
    "            df = pd.read_parquet(file_path, **kwargs)\n",
    "        else:\n",
    "            raise ValueError(f\"Unsupported file extension: {file_extension}\")\n",
    "\n",
    "        return df\n",
    "\n",
    "    except FileNotFoundError:\n",
    "        print(f\"Error: The file {file_path} does not exist.\")\n",
    "        raise\n",
    "    except pd.errors.ParserError as e:\n",
    "        print(f\"Error: Parsing error for file {file_path} - {str(e)}\")\n",
    "        raise\n",
    "    except Exception as e:\n",
    "        print(f\"An unexpected error occured: {str(e)}\")\n",
    "        raise\n",
    "\n",
    "\n",
    "def define_expected_default_rate():\n",
    "    data = {\n",
    "        \"CompositeRate\": [\"A\", \"B1\", \"B2\", \"B3\", \"B4\", \"C1\", \"C2\", \"C3\"],\n",
    "        \"corporate\": [0.0001, 0.0025, 0.0025, 0.0075, 0.0125, 0.025, 0.075, 0.2],\n",
    "        \"sme\": [0.0001, 0.0075, 0.0075, 0.0125, 0.0175, 0.025, 0.075, 0.2],\n",
    "        \"rsme\": [0.0001, 0.0075, 0.0075, 0.0125, 0.025, 0.04, 0.075, 0.4],\n",
    "    }\n",
    "\n",
    "    expected_default_df = pd.DataFrame(data)\n",
    "\n",
    "    return expected_default_df\n",
    "\n",
    "\n",
    "def map_expected_default_rate(\n",
    "    df: pd.DataFrame, expected_default_rate_df: pd.DataFrame, portfolio: str\n",
    ") -> pd.DataFrame:\n",
    "\n",
    "    port = portfolio.lower()\n",
    "\n",
    "    df_1 = df.merge(\n",
    "        expected_default_rate_df[[\"CompositeRate\", f\"{port}\"]],\n",
    "        how=\"left\",\n",
    "        on=[\"CompositeRate\"],\n",
    "    ).rename(columns={f\"{port}\": \"ExpectedDR\"})\n",
    "\n",
    "    return df_1\n",
    "\n",
    "\n",
    "def calculate_asset_correlation(df: pd.DataFrame, customer_type=str) -> pd.DataFrame:\n",
    "\n",
    "    asset_correlation_series = []\n",
    "    \n",
    "    if customer_type in ['Corporate', \"SMEs\"]:\n",
    "        for index, row in df.iterrows():\n",
    "            expected_event_rate = row[\"ExpectedDR\"]\n",
    "            asset_correlation = 0.12 * (\n",
    "                (1 - np.exp(-50 * expected_event_rate)) / (1 - np.exp(-50))\n",
    "            ) + 0.24 * (1 - ((1 - np.exp(-50 * expected_event_rate)) / (1 - np.exp(-50))))\n",
    "            asset_correlation_series.append(asset_correlation)\n",
    "            \n",
    "    elif customer_type in [\"RSMEs\"]:\n",
    "        for index, row in df.iterrows():\n",
    "            expected_event_rate = row[\"ExpectedDR\"]\n",
    "            asset_correlation = 0.03 * (\n",
    "                (1 - np.exp(-35 * expected_event_rate)) / (1 - np.exp(-35))\n",
    "            ) + 0.16 * (1 - ((1 - np.exp(-35 * expected_event_rate)) / (1 - np.exp(-35))))\n",
    "            asset_correlation_series.append(asset_correlation)\n",
    "    else:\n",
    "        raise ValueError(\"Incorrect 'customer_type'.\")\n",
    "        \n",
    "    output = df.copy()\n",
    "    output[\"AssetCorrelation\"] = asset_correlation_series\n",
    "    \n",
    "    return output\n",
    "\n",
    "def modified_binomial_test(df: pd.DataFrame, alpha: float=0.05) -> pd.DataFrame:\n",
    "    \n",
    "    lower_bounds = []\n",
    "    upper_bounds = []\n",
    "    \n",
    "    for index, row in df.iterrows():\n",
    "        p = row[\"ExpectedDR\"]\n",
    "        rho = row[\"AssetCorrelation\"]\n",
    "        \n",
    "        lower_bound = norm.cdf((norm.ppf(alpha / 2) * np.sqrt(rho) + norm.ppf(p)) / np.sqrt(1 - rho))\n",
    "        upper_bound = norm.cdf((norm.ppf(1 - (alpha / 2)) * np.sqrt(rho) + norm.ppf(p)) / np.sqrt(1 - rho))\n",
    "        \n",
    "        lower_bounds.append(lower_bound)\n",
    "        upper_bounds.append(upper_bound)\n",
    "        \n",
    "    output = df.copy()\n",
    "    output[\"LowerBound\"] = lower_bounds\n",
    "    output[\"UpperBound\"] = upper_bounds\n",
    "        \n",
    "    return output\n",
    "\n",
    "def label_test_results(df: pd.DataFrame) -> pd.DataFrame:\n",
    "    labels = []\n",
    "    \n",
    "    for index, row in df.iterrows():\n",
    "        lower_bound = row[\"LowerBound\"]\n",
    "        upper_bound = row[\"UpperBound\"]\n",
    "        actual_default_rate = row[\"BadRate\"]\n",
    "        total_count = row[\"Good\"] + row[\"Bad\"]\n",
    "        \n",
    "        if 1 / total_count >= upper_bound:\n",
    "            labels.append(\"-\")\n",
    "        else:\n",
    "            if actual_default_rate <= lower_bound or actual_default_rate >= upper_bound:\n",
    "                labels.append('Fail')\n",
    "            else:\n",
    "                labels.append('Pass')\n",
    "    \n",
    "    output = df.copy()\n",
    "    output[\"Test Result\"] = labels\n",
    "    \n",
    "    return output"
   ]
  },
  {
   "cell_type": "code",
   "execution_count": null,
   "metadata": {},
   "outputs": [],
   "source": [
    "corp_default_rate_df = import_file(\"../data/processed/03_rating_summary/corporate_rating_summary.parquet\")\n",
    "sme_default_rate_df = import_file(\"../data/processed/03_rating_summary/sme_rating_summary.parquet\")\n",
    "rsme_default_rate_df = import_file(\"../data/processed/03_rating_summary/rsme_rating_summary.parquet\")\n",
    "expected_default_rate_df = define_expected_default_rate()"
   ]
  },
  {
   "cell_type": "code",
   "execution_count": null,
   "metadata": {},
   "outputs": [],
   "source": [
    "base_corporate_df = map_expected_default_rate(corp_default_rate_df, expected_default_rate_df, \"corporate\")\n",
    "base_sme_df = map_expected_default_rate(sme_default_rate_df, expected_default_rate_df, \"sme\")\n",
    "base_rsme_df = map_expected_default_rate(rsme_default_rate_df, expected_default_rate_df, \"rsme\")"
   ]
  },
  {
   "cell_type": "code",
   "execution_count": null,
   "metadata": {},
   "outputs": [],
   "source": [
    "corp_result = label_test_results(modified_binomial_test(calculate_asset_correlation(base_corporate_df, \"Corporate\")))"
   ]
  },
  {
   "cell_type": "code",
   "execution_count": null,
   "metadata": {},
   "outputs": [],
   "source": [
    "sme_result = label_test_results(modified_binomial_test(calculate_asset_correlation(base_sme_df, \"SMEs\")))"
   ]
  },
  {
   "cell_type": "code",
   "execution_count": null,
   "metadata": {},
   "outputs": [],
   "source": [
    "rsme_result = label_test_results(modified_binomial_test(calculate_asset_correlation(base_rsme_df, \"RSMEs\")))"
   ]
  },
  {
   "cell_type": "code",
   "execution_count": null,
   "metadata": {},
   "outputs": [],
   "source": [
    "corp_result"
   ]
  },
  {
   "cell_type": "code",
   "execution_count": null,
   "metadata": {},
   "outputs": [],
   "source": [
    "sme_result"
   ]
  },
  {
   "cell_type": "code",
   "execution_count": null,
   "metadata": {},
   "outputs": [],
   "source": [
    "rsme_result"
   ]
  },
  {
   "cell_type": "code",
   "execution_count": null,
   "metadata": {},
   "outputs": [],
   "source": []
  }
 ],
 "metadata": {
  "kernelspec": {
   "display_name": "Python 3 (ipykernel)",
   "language": "python",
   "name": "python3"
  },
  "language_info": {
   "codemirror_mode": {
    "name": "ipython",
    "version": 3
   },
   "file_extension": ".py",
   "mimetype": "text/x-python",
   "name": "python",
   "nbconvert_exporter": "python",
   "pygments_lexer": "ipython3",
   "version": "3.12.0"
  }
 },
 "nbformat": 4,
 "nbformat_minor": 4
}
