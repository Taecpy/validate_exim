{
 "cells": [
  {
   "cell_type": "code",
   "execution_count": null,
   "id": "d27204b4-a025-492f-8db2-4dab20bf34b3",
   "metadata": {},
   "outputs": [],
   "source": [
    "!pip install matplotlib==3.9.1\n",
    "!pip install matplotlib-inline==0.1.7\n",
    "!pip install numpy==1.26.0\n",
    "!pip install openpyxl==3.1.5\n",
    "!pip install pandas==2.2.2\n",
    "!pip install pandera==0.19.3\n",
    "!pip install pyarrow==16.1.0\n",
    "!pip install scipy==1.14.0\n",
    "!pip install scikit-learn==1.3.2\n",
    "!pip install seaborn==0.13.2"
   ]
  },
  {
   "cell_type": "code",
   "execution_count": null,
   "id": "54ac28ea-dcbf-4655-a3e3-6a91b3cad69f",
   "metadata": {},
   "outputs": [],
   "source": [
    "pip list"
   ]
  }
 ],
 "metadata": {
  "kernelspec": {
   "display_name": "Python 3 (ipykernel)",
   "language": "python",
   "name": "python3"
  },
  "language_info": {
   "codemirror_mode": {
    "name": "ipython",
    "version": 3
   },
   "file_extension": ".py",
   "mimetype": "text/x-python",
   "name": "python",
   "nbconvert_exporter": "python",
   "pygments_lexer": "ipython3",
   "version": "3.12.0"
  }
 },
 "nbformat": 4,
 "nbformat_minor": 5
}
