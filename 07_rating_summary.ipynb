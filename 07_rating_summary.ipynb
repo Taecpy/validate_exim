{
 "cells": [
  {
   "cell_type": "code",
   "execution_count": null,
   "metadata": {},
   "outputs": [],
   "source": [
    "import pandas as pd"
   ]
  },
  {
   "cell_type": "code",
   "execution_count": null,
   "metadata": {},
   "outputs": [],
   "source": [
    "def import_file(file_path: str, **kwargs) -> pd.DataFrame:\n",
    "    try:\n",
    "        file_extension = file_path.split(\".\")[-1].lower()\n",
    "\n",
    "        if file_extension == \"csv\":\n",
    "            df = pd.read_csv(file_path, **kwargs)\n",
    "        elif file_extension == \"xlsx\":\n",
    "            df = pd.read_excel(file_path, **kwargs)\n",
    "        elif file_extension == \"parquet\":\n",
    "            df = pd.read_parquet(file_path, **kwargs)\n",
    "        else:\n",
    "            raise ValueError(f\"Unsupported file extension: {file_extension}\")\n",
    "\n",
    "        return df\n",
    "\n",
    "    except FileNotFoundError:\n",
    "        print(f\"Error: The file {file_path} does not exist.\")\n",
    "        raise\n",
    "    except pd.errors.ParserError as e:\n",
    "        print(f\"Error: Parsing error for file {file_path} - {str(e)}\")\n",
    "        raise\n",
    "    except Exception as e:\n",
    "        print(f\"An unexpected error occured: {str(e)}\")\n",
    "        raise\n",
    "    \n",
    "def summary_good_bad(df: pd.DataFrame, fruad_exclusion: bool) -> pd.DataFrame:\n",
    "    if fruad_exclusion == False:\n",
    "        df_summary = (\n",
    "            df.query(\"ExistingDefaultFlag == 0\")[\n",
    "                [\"adjCompositeRate\", \"DefaultFlag12M\"]\n",
    "            ]\n",
    "            .value_counts()\n",
    "            .reset_index()\n",
    "            .sort_values([\"adjCompositeRate\", \"DefaultFlag12M\"])\n",
    "        )\n",
    "    else:\n",
    "        df_summary = (\n",
    "            df.query(\"ExistingDefaultFlag == 0 & FruadFlag.isnull()\")[\n",
    "                [\"adjCompositeRate\", \"DefaultFlag12M\"]\n",
    "            ]\n",
    "            .value_counts()\n",
    "            .reset_index()\n",
    "            .sort_values([\"adjCompositeRate\", \"DefaultFlag12M\"])\n",
    "        )\n",
    "    \n",
    "    df_pivot = df_summary.pivot(index=['adjCompositeRate'], columns='DefaultFlag12M', values='count').reset_index()\n",
    "    df_pivot.columns.name = None\n",
    "    df_pivot.columns = ['CompositeRate', 'Good', 'Bad']\n",
    "    df_pivot.fillna({\"Good\": 0, \"Bad\": 0}, inplace=True)\n",
    "    df_pivot[\"BadRate\"] = df_pivot[\"Bad\"] / (df_pivot[\"Good\"] + df_pivot[\"Bad\"])\n",
    "    \n",
    "    return df_pivot"
   ]
  },
  {
   "cell_type": "code",
   "execution_count": null,
   "metadata": {},
   "outputs": [],
   "source": [
    "corp_df = import_file(\"../data/processed/02_data_sampling/corporate_customer_data.parquet\")\n",
    "sme_df = import_file(\"../data/processed/02_data_sampling/sme_customer_data.parquet\")\n",
    "rsme_df = import_file(\"../data/processed/02_data_sampling/Retail_202005_202403.parquet\")\n",
    "fruad_df = import_file(\"../data/raw/Fruads/FruadList.xlsx\", dtype={\"CustomerRefID\": str, \"FruadFlag\": int})\n",
    "\n",
    "print(corp_df.shape)\n",
    "print(sme_df.shape)\n",
    "print(rsme_df.shape)\n",
    "print(fruad_df.shape)"
   ]
  },
  {
   "cell_type": "code",
   "execution_count": null,
   "metadata": {},
   "outputs": [],
   "source": [
    "# Join fruad flag\n",
    "corp_df_1 = corp_df.merge(fruad_df, how='left', on=['CustomerRefID'])\n",
    "sme_df_1 = sme_df.merge(fruad_df, how='left', on=['CustomerRefID'])\n",
    "rsme_df_1 = rsme_df.merge(fruad_df, how='left', on=['CustomerRefID'])"
   ]
  },
  {
   "cell_type": "code",
   "execution_count": null,
   "metadata": {},
   "outputs": [],
   "source": [
    "corporate_summary_df = summary_good_bad(corp_df_1, False)\n",
    "corporate_summary_ex_fruad_df = summary_good_bad(corp_df_1, True)\n",
    "\n",
    "sme_summary_df = summary_good_bad(sme_df_1, False)\n",
    "sme_summary_ex_fruad_df = summary_good_bad(sme_df_1, True)\n",
    "\n",
    "rsme_summary_df = summary_good_bad(rsme_df_1, False)\n",
    "rsme_summary_ex_fruad_df = summary_good_bad(rsme_df_1, True)"
   ]
  },
  {
   "cell_type": "code",
   "execution_count": null,
   "metadata": {},
   "outputs": [],
   "source": [
    "corporate_summary_df"
   ]
  },
  {
   "cell_type": "code",
   "execution_count": null,
   "metadata": {},
   "outputs": [],
   "source": [
    "corporate_summary_ex_fruad_df"
   ]
  },
  {
   "cell_type": "code",
   "execution_count": null,
   "metadata": {},
   "outputs": [],
   "source": [
    "sme_summary_df"
   ]
  },
  {
   "cell_type": "code",
   "execution_count": null,
   "metadata": {},
   "outputs": [],
   "source": [
    "sme_summary_ex_fruad_df"
   ]
  },
  {
   "cell_type": "code",
   "execution_count": null,
   "metadata": {},
   "outputs": [],
   "source": [
    "rsme_summary_df"
   ]
  },
  {
   "cell_type": "code",
   "execution_count": null,
   "metadata": {},
   "outputs": [],
   "source": [
    "rsme_summary_ex_fruad_df"
   ]
  },
  {
   "cell_type": "code",
   "execution_count": null,
   "metadata": {},
   "outputs": [],
   "source": [
    "corporate_summary_df.to_parquet('../data/processed/03_rating_summary/corporate_rating_summary.parquet')\n",
    "corporate_summary_ex_fruad_df.to_parquet('../data/processed/03_rating_summary/corporate_rating_summary_ex_fruad.parquet')\n",
    "\n",
    "sme_summary_df.to_parquet('../data/processed/03_rating_summary/sme_rating_summary.parquet')\n",
    "sme_summary_ex_fruad_df.to_parquet('../data/processed/03_rating_summary/sme_rating_summary_ex_fruad.parquet')\n",
    "\n",
    "rsme_summary_df.to_parquet('../data/processed/03_rating_summary/rsme_rating_summary.parquet')\n",
    "rsme_summary_ex_fruad_df.to_parquet('../data/processed/03_rating_summary/rsme_rating_summary_ex_fruad.parquet')"
   ]
  },
  {
   "cell_type": "code",
   "execution_count": null,
   "metadata": {},
   "outputs": [],
   "source": []
  }
 ],
 "metadata": {
  "kernelspec": {
   "display_name": "Python 3 (ipykernel)",
   "language": "python",
   "name": "python3"
  },
  "language_info": {
   "codemirror_mode": {
    "name": "ipython",
    "version": 3
   },
   "file_extension": ".py",
   "mimetype": "text/x-python",
   "name": "python",
   "nbconvert_exporter": "python",
   "pygments_lexer": "ipython3",
   "version": "3.12.0"
  }
 },
 "nbformat": 4,
 "nbformat_minor": 4
}
